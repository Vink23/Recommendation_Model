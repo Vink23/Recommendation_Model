{
  "nbformat": 4,
  "nbformat_minor": 0,
  "metadata": {
    "colab": {
      "provenance": []
    },
    "kernelspec": {
      "name": "python3",
      "display_name": "Python 3"
    },
    "language_info": {
      "name": "python"
    }
  },
  "cells": [
    {
      "cell_type": "code",
      "execution_count": null,
      "metadata": {
        "id": "Sj-V5iC9PQe6"
      },
      "outputs": [],
      "source": [
        "!wget http://files.grouplens.org/datasets/movielens/ml-1m.zip\n",
        "!unzip ml-1m.zip"
      ]
    },
    {
      "cell_type": "code",
      "source": [
        "import pandas as pd\n",
        "import numpy as np\n",
        "import matplotlib.pyplot as plt\n",
        "import datetime\n"
      ],
      "metadata": {
        "id": "hTt5JJqzPeod"
      },
      "execution_count": null,
      "outputs": []
    },
    {
      "cell_type": "code",
      "source": [
        "ratings = pd.read_csv(\n",
        "    'ml-1m/ratings.dat',\n",
        "    sep='::',\n",
        "    engine='python',\n",
        "    names=['UserID', 'MovieID', 'Rating', 'Timestamp']\n",
        ")"
      ],
      "metadata": {
        "id": "7NHv5ULEPle3"
      },
      "execution_count": null,
      "outputs": []
    },
    {
      "cell_type": "code",
      "source": [
        "movies = pd.read_csv(\n",
        "    'ml-1m/movies.dat',\n",
        "    sep='::',\n",
        "    engine='python',\n",
        "    names=['MovieID', 'Title', 'Genres'],\n",
        "    encoding='latin-1'  # or 'iso-8859-1'\n",
        ")"
      ],
      "metadata": {
        "id": "o-7F6tkaPn8o"
      },
      "execution_count": null,
      "outputs": []
    },
    {
      "cell_type": "code",
      "source": [
        "users = pd.read_csv(\n",
        "    'ml-1m/users.dat',\n",
        "    sep='::',\n",
        "    engine='python',\n",
        "    names=['UserID', 'Gender', 'Age', 'Occupation', 'Zip-code']\n",
        ")"
      ],
      "metadata": {
        "id": "_0f8ZIRoPtei"
      },
      "execution_count": null,
      "outputs": []
    },
    {
      "cell_type": "code",
      "source": [
        "ratings.head()"
      ],
      "metadata": {
        "id": "oIPDI8y3QXwy"
      },
      "execution_count": null,
      "outputs": []
    },
    {
      "cell_type": "code",
      "source": [
        "movies.head()"
      ],
      "metadata": {
        "id": "H1fk_uv4Qd4r"
      },
      "execution_count": null,
      "outputs": []
    },
    {
      "cell_type": "code",
      "source": [
        "users.head()"
      ],
      "metadata": {
        "id": "glFM1uhQQeA-"
      },
      "execution_count": null,
      "outputs": []
    },
    {
      "cell_type": "code",
      "source": [
        "data = pd.merge(ratings, movies, on='MovieID')\n",
        "data = pd.merge(data, users, on='UserID')"
      ],
      "metadata": {
        "id": "NNzUB3oDQj70"
      },
      "execution_count": null,
      "outputs": []
    },
    {
      "cell_type": "code",
      "source": [
        "data.head()"
      ],
      "metadata": {
        "id": "79yiqA6kQ2tz"
      },
      "execution_count": null,
      "outputs": []
    },
    {
      "cell_type": "code",
      "source": [
        "data.info()"
      ],
      "metadata": {
        "id": "p2ckzWz5Qlxi"
      },
      "execution_count": null,
      "outputs": []
    },
    {
      "cell_type": "code",
      "source": [
        "data.isna().sum()"
      ],
      "metadata": {
        "id": "AGx2tvODTU8M"
      },
      "execution_count": null,
      "outputs": []
    },
    {
      "cell_type": "code",
      "source": [
        "data['Rating'].plot(kind='hist')"
      ],
      "metadata": {
        "id": "f8F0udJERBqs"
      },
      "execution_count": null,
      "outputs": []
    },
    {
      "cell_type": "code",
      "source": [
        "data.nunique()"
      ],
      "metadata": {
        "id": "SeQ0PMqyRiAE"
      },
      "execution_count": null,
      "outputs": []
    },
    {
      "cell_type": "code",
      "source": [
        "age_group_counts = data.groupby('Age').size()\n",
        "print(age_group_counts)"
      ],
      "metadata": {
        "id": "bL4vKF0VSIP-"
      },
      "execution_count": null,
      "outputs": []
    },
    {
      "cell_type": "markdown",
      "source": [
        "### Age column is binned, so I will treat each as a respective group i.e '1' will be analyzed as '<18','18' will be '18-24','25' will be '25-34','35' will be '35-44', '45' will be '45-49', '50' will be '50-55', and '56' will be '56+'\n"
      ],
      "metadata": {
        "id": "AnVz1t4KSZcL"
      }
    },
    {
      "cell_type": "code",
      "source": [
        "## Theory: Time of day may effect genre/rating of movie.\n",
        "\n",
        "data['Hour'] = pd.to_datetime(data['Timestamp'], unit='s').dt.hour\n",
        "data.head()"
      ],
      "metadata": {
        "id": "cXCPH__ATd0N"
      },
      "execution_count": null,
      "outputs": []
    },
    {
      "cell_type": "code",
      "source": [
        "#Extract Year out of Title column and update Title column\n",
        "data['Year'] = data['Title'].str[-5:-1]\n",
        "data['Title'] = data['Title'].str[:-7]\n",
        "data.head()"
      ],
      "metadata": {
        "id": "aTUGNl6YTIhO"
      },
      "execution_count": null,
      "outputs": []
    },
    {
      "cell_type": "code",
      "source": [
        "#Convert Gender into binary representation\n",
        "data['Gender'] = data['Gender'].replace({'M': 1, 'F': 0})\n",
        "data.head()"
      ],
      "metadata": {
        "id": "B1S10nXDemkj"
      },
      "execution_count": null,
      "outputs": []
    },
    {
      "cell_type": "code",
      "source": [
        "#Convert occupation into one-hot representations to avoid ordinal/magnitude assumptions by model later on in development\n",
        "occupation_dummies = pd.get_dummies(data['Occupation'], prefix='Occupation')\n",
        "data = pd.concat([data, occupation_dummies], axis=1)\n",
        "data.head()"
      ],
      "metadata": {
        "id": "C2bq2Nk4fcj3"
      },
      "execution_count": null,
      "outputs": []
    },
    {
      "cell_type": "code",
      "source": [
        "#Extract first 3 numbers from zipcode and convert to one-hot representation. Retains approximate geographic regions which may help model performance, but reduces dimensionality of using full zipcode\n",
        "data['ZipPrefix'] = data['Zip-code'].str[:3]\n",
        "zip_dummies = pd.get_dummies(data['ZipPrefix'], prefix='Zip')\n",
        "data = pd.concat([data.drop(['Zip-code'], axis=1), zip_dummies], axis=1)\n",
        "data.head()"
      ],
      "metadata": {
        "id": "z19iadtUgmid"
      },
      "execution_count": null,
      "outputs": []
    },
    {
      "cell_type": "code",
      "source": [
        "data['ZipPrefix'].nunique()"
      ],
      "metadata": {
        "id": "J8aqvikbhOU7"
      },
      "execution_count": null,
      "outputs": []
    },
    {
      "cell_type": "code",
      "source": [
        "#Converting Genres into one-hot encodings. To get a general understanding of features that effect model performance I will start with one-hot representation,\n",
        "#but may need to use embeddings to figure out genre relationships, but will use one-hot as preliminary representation/\n",
        "genre_dummies = data['Genres'].str.get_dummies(sep='|')\n",
        "data = pd.concat([data.drop('Genres', axis=1), genre_dummies], axis=1)\n",
        "data.head()"
      ],
      "metadata": {
        "id": "0SUUuedOkob-"
      },
      "execution_count": null,
      "outputs": []
    },
    {
      "cell_type": "code",
      "source": [],
      "metadata": {
        "id": "MP9ZOCrb1_uX"
      },
      "execution_count": null,
      "outputs": []
    },
    {
      "cell_type": "code",
      "source": [],
      "metadata": {
        "id": "rZ3D_iIs2Agu"
      },
      "execution_count": null,
      "outputs": []
    },
    {
      "cell_type": "code",
      "source": [
        "print('\\nTitles with more than 50 tokens:', data[data['Title'].str.len().gt(50)].shape[0])"
      ],
      "metadata": {
        "id": "qR4WJSlJ2PHK"
      },
      "execution_count": null,
      "outputs": []
    },
    {
      "cell_type": "code",
      "source": [
        "plt.hist(data['Title'].str.len());\n",
        "plt.ylabel('Count of Titles')\n",
        "plt.xlabel('Number of tokens per Title')"
      ],
      "metadata": {
        "id": "qtJLMF-t2f0g"
      },
      "execution_count": null,
      "outputs": []
    },
    {
      "cell_type": "code",
      "source": [
        "data['Rating'].value_counts()"
      ],
      "metadata": {
        "id": "D8uq8ww326Yc"
      },
      "execution_count": null,
      "outputs": []
    }
  ]
}